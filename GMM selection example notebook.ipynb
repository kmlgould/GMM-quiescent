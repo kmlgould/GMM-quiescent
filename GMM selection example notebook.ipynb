{
 "cells": [
  {
   "cell_type": "code",
   "execution_count": 1,
   "id": "6d36965c",
   "metadata": {},
   "outputs": [],
   "source": [
    "import os\n",
    "import sys\n",
    "import numpy as np\n",
    "import matplotlib.pyplot as plt\n",
    "\n",
    "import astropy.units as u \n",
    "from sklearn.mixture import GaussianMixture\n",
    "from sklearn import mixture\n",
    "import pickle\n",
    "from astropy.table import Table\n",
    "read_catalog = Table.read\n"
   ]
  },
  {
   "cell_type": "markdown",
   "id": "2f6a2da4",
   "metadata": {},
   "source": [
    "## Initialize catalogs"
   ]
  },
  {
   "cell_type": "code",
   "execution_count": 2,
   "id": "27ee2d3e",
   "metadata": {},
   "outputs": [],
   "source": [
    "def sel_uvj_whitaker_2012(g):\n",
    "    \"returns True for things which are uvj selected\"\n",
    "    sel = ((g['uv'])>(0.8*(g['vj']))+0.7) & ((g['vj'])<1.5) & ((g['uv'])>1.3)\n",
    "#    #sel = np.where(np.isnan(g['uv']), sel, np.nan)\n",
    "    return sel\n",
    "\n",
    "\n",
    "# compilation of 2<z<4 quiescent galaxies in COSMOS2020* from the following papers:\n",
    "# Valentino+20: https://ui.adsabs.harvard.edu/abs/2020ApJ...889...93V/abstract\n",
    "# D'Eugenio+20 https://ui.adsabs.harvard.edu/abs/2021A%26A...653A..32D/abstract\n",
    "# Forrest+20 https://ui.adsabs.harvard.edu/abs/2020ApJ...903...47F/abstract\n",
    "\n",
    "# * this work (Gould+2023), COSMOS2020 Farmer photometry with 5x boosted IRAC errors, refit with eazy-py \n",
    "\n",
    "\n",
    "zout_m = Table.read(\"literature_mqg_zout.fits\")"
   ]
  },
  {
   "cell_type": "code",
   "execution_count": 3,
   "id": "13d34f2c",
   "metadata": {},
   "outputs": [
    {
     "name": "stdout",
     "output_type": "stream",
     "text": [
      "12\n"
     ]
    }
   ],
   "source": [
    "print(len(zout_m))"
   ]
  },
  {
   "cell_type": "markdown",
   "id": "3a97c69d",
   "metadata": {},
   "source": [
    "## Fit the GMM and see if galaxies are quiescent according to the model"
   ]
  },
  {
   "cell_type": "code",
   "execution_count": 4,
   "id": "7fb2154b",
   "metadata": {},
   "outputs": [],
   "source": [
    "def calc_qprob(cat):\n",
    "    \n",
    "    # given NUVU, UV, VJ colours for a catalog (and their errors), calculate the boot strapped\n",
    "    # quiescent probabilities based on the gaussian mixture model \n",
    "\n",
    "    NUV = cat['rest121']\n",
    "    U = cat['restU']\n",
    "    V = cat['restV']\n",
    "    J = cat['restJ']\n",
    "\n",
    "    NUVerr = cat['rest121_err']\n",
    "    Uerr = cat['restU_err']\n",
    "    Verr = cat['restV_err']\n",
    "    Jerr = cat['restJ_err']\n",
    "\n",
    "    # First we set the parameters of the program:\n",
    "\n",
    "    N_exp = 1000           # Number of \"experiments\" (i.e. drawing from random distributions)\n",
    "    r = np.random\n",
    "    r.seed(42)\n",
    "\n",
    "    prob_q = np.zeros([len(NUV),5])\n",
    "    prob_all = []\n",
    "\n",
    "    for n,(nuv,nuverr,u,uerr,v,verr,j,jerr) in enumerate(zip(NUV, NUVerr, U,Uerr,V,Verr,J,Jerr)):\n",
    "    # create 1000 u,v,j, NUV values for each galaxy based on its u,v,j, NUV and errors, assuming gaussian d. \n",
    "\n",
    "\n",
    "        nuvdata = r.normal(nuv,nuverr,N_exp)\n",
    "        udata = r.normal(u,uerr,N_exp)\n",
    "        vdata = r.normal(v,verr,N_exp)\n",
    "        jdata = r.normal(j,jerr,N_exp)\n",
    "\n",
    "        # recalculate colours \n",
    "\n",
    "        nuvu = -2.5*np.log10(nuvdata/udata)\n",
    "        uv = -2.5*np.log10(udata/vdata)\n",
    "        vj = -2.5*np.log10(vdata/jdata)\n",
    "\n",
    "        if np.sum(np.isnan(nuvu)) or np.sum(np.isnan(uv)) or np.sum(np.isnan(vj)):\n",
    "\n",
    "            prob_q[n,:] = [-99,-99,-99,-99,-99]\n",
    "\n",
    "        else: \n",
    "\n",
    "            X_t = np.array([np.array(vj),np.array(uv),np.array(nuvu)]).T\n",
    "            with open('colours_model-v4.0.pkl', 'rb') as f:\n",
    "                gmm = pickle.load(f) \n",
    "                \n",
    "            zscore_t = gmm.predict_proba(X_t)\n",
    "\n",
    "\n",
    "            group1_t = zscore_t.T[0]\n",
    "            group2_t = zscore_t.T[1]\n",
    "            group3_t = zscore_t.T[2]\n",
    "            group4_t = zscore_t.T[3]\n",
    "            group5_t = zscore_t.T[4]\n",
    "            group6_t = zscore_t.T[5]\n",
    "\n",
    "            pc = np.percentile(group3_t,q=(5,16,50,84,95))\n",
    "\n",
    "            prob_q[n,:] = pc # add to 2d array of Lxn [N,1000] where N = len(data)  \n",
    "            \n",
    "            prob_all.append(group3_t) # this group was visually classified as quiescent using UVJ\n",
    "\n",
    "    cat['p(q)_5'] = prob_q[:,0]\n",
    "    cat['p(q)_16'] = prob_q[:,1]\n",
    "    cat['p(q)_50'] = prob_q[:,2]\n",
    "    cat['p(q)_84'] = prob_q[:,3]\n",
    "    cat['p(q)_95'] = prob_q[:,4]\n",
    "    cat['p(q)_whole'] = prob_all\n",
    "    #cat['p(q)_whole'] = group3_t\n",
    "    return cat "
   ]
  },
  {
   "cell_type": "markdown",
   "id": "58fa822a",
   "metadata": {},
   "source": [
    "The threshold for quiescence depends on redshift, defined by a second order polynomial with coefficients a,b,c."
   ]
  },
  {
   "cell_type": "code",
   "execution_count": 5,
   "id": "e2e8cf8f",
   "metadata": {},
   "outputs": [
    {
     "name": "stdout",
     "output_type": "stream",
     "text": [
      "GMM: There are 11/12 quiescent galaxies\n",
      "UVJ Whitaker 2012: There are 6/12  quiescent galaxies\n"
     ]
    }
   ],
   "source": [
    "zout_m = calc_qprob(zout_m)\n",
    "\n",
    "a = 0.1049; b = -0.9049; c = 1.949\n",
    "\n",
    "pqsel = (((zout_m['z_phot']<4.) & (zout_m['p(q)_50']>(a*zout_m['z_phot']**2. + b*zout_m['z_phot'] + c)) | \\\n",
    "            ((zout_m['z_phot']>=4.) & (zout_m['p(q)_95']>0.01)))) \n",
    "\n",
    "uvj_old = np.sum(sel_uvj_whitaker_2012(zout_m))\n",
    "\n",
    "print(f'GMM: There are {np.sum(pqsel)}/{len(zout_m)} quiescent galaxies')\n",
    "print(f'UVJ Whitaker 2012: There are {uvj_old}/{len(zout_m)}  quiescent galaxies')\n"
   ]
  },
  {
   "cell_type": "markdown",
   "id": "d513d925",
   "metadata": {},
   "source": [
    "## Looking at the galaxies in the projection NUV-U vs V-J"
   ]
  },
  {
   "cell_type": "code",
   "execution_count": 6,
   "id": "1a646c3c",
   "metadata": {},
   "outputs": [
    {
     "data": {
      "image/png": "[encoded data removed]",
      "text/plain": [
       "<Figure size 700x600 with 2 Axes>"
      ]
     },
     "metadata": {},
     "output_type": "display_data"
    }
   ],
   "source": [
    "plt.figure(figsize=(7,6))\n",
    "sel2 = sel_uvj_whitaker_2012(zout_m)\n",
    "plt.scatter(zout_m['vj'][sel2],zout_m['NUVU'][sel2],marker='x',s=200,color='black',label='UVJ selected')\n",
    "sc = plt.scatter(zout_m['vj'][pqsel],zout_m['NUVU'][pqsel],cmap='coolwarm'\\\n",
    "                 ,c=zout_m['p(q)_50'][pqsel],s=100,label='GMM selected')\n",
    "plt.scatter(zout_m['vj'][~pqsel],zout_m['NUVU'][~pqsel],c='black',label='not selected')\n",
    "\n",
    "\n",
    "cb = plt.colorbar(sc)\n",
    "cb.set_label('p(q)',fontsize=20)\n",
    "plt.xlim(0,2.)\n",
    "plt.xlabel('V-J',fontsize=20)\n",
    "plt.ylabel('NUV-U',fontsize=20)\n",
    "plt.ylim(0,3.)\n",
    "plt.legend()\n",
    "plt.show()"
   ]
  }
 ],
 "metadata": {
  "kernelspec": {
   "display_name": "Python 3 (ipykernel)",
   "language": "python",
   "name": "python3"
  },
  "language_info": {
   "codemirror_mode": {
    "name": "ipython",
    "version": 3
   },
   "file_extension": ".py",
   "mimetype": "text/x-python",
   "name": "python",
   "nbconvert_exporter": "python",
   "pygments_lexer": "ipython3",
   "version": "3.9.13"
  }
 },
 "nbformat": 4,
 "nbformat_minor": 5
}
